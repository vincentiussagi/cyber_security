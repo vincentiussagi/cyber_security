{
 "cells": [
  {
   "cell_type": "code",
   "execution_count": 1,
   "id": "c642c2dd",
   "metadata": {
    "_cell_guid": "b1076dfc-b9ad-4769-8c92-a6c4dae69d19",
    "_uuid": "8f2839f25d086af736a60e9eeb907d3b93b6e0e5",
    "execution": {
     "iopub.execute_input": "2023-06-24T11:36:50.581242Z",
     "iopub.status.busy": "2023-06-24T11:36:50.580354Z",
     "iopub.status.idle": "2023-06-24T11:36:50.640561Z",
     "shell.execute_reply": "2023-06-24T11:36:50.639284Z"
    },
    "papermill": {
     "duration": 0.074444,
     "end_time": "2023-06-24T11:36:50.644449",
     "exception": false,
     "start_time": "2023-06-24T11:36:50.570005",
     "status": "completed"
    },
    "tags": []
   },
   "outputs": [
    {
     "name": "stdout",
     "output_type": "stream",
     "text": [
      "/kaggle/input/ciciot2023/part-00128-363d1ba3-8ab5-4f96-bc25-4d5862db7cb9-c000.csv\n",
      "/kaggle/input/ciciot2023/part-00089-363d1ba3-8ab5-4f96-bc25-4d5862db7cb9-c000.csv\n",
      "/kaggle/input/ciciot2023/part-00034-363d1ba3-8ab5-4f96-bc25-4d5862db7cb9-c000.csv\n",
      "/kaggle/input/ciciot2023/part-00042-363d1ba3-8ab5-4f96-bc25-4d5862db7cb9-c000.csv\n",
      "/kaggle/input/ciciot2023/part-00160-363d1ba3-8ab5-4f96-bc25-4d5862db7cb9-c000.csv\n",
      "/kaggle/input/ciciot2023/part-00096-363d1ba3-8ab5-4f96-bc25-4d5862db7cb9-c000.csv\n",
      "/kaggle/input/ciciot2023/part-00110-363d1ba3-8ab5-4f96-bc25-4d5862db7cb9-c000.csv\n",
      "/kaggle/input/ciciot2023/part-00078-363d1ba3-8ab5-4f96-bc25-4d5862db7cb9-c000.csv\n",
      "/kaggle/input/ciciot2023/part-00113-363d1ba3-8ab5-4f96-bc25-4d5862db7cb9-c000.csv\n",
      "/kaggle/input/ciciot2023/part-00091-363d1ba3-8ab5-4f96-bc25-4d5862db7cb9-c000.csv\n",
      "/kaggle/input/ciciot2023/part-00058-363d1ba3-8ab5-4f96-bc25-4d5862db7cb9-c000.csv\n",
      "/kaggle/input/ciciot2023/part-00105-363d1ba3-8ab5-4f96-bc25-4d5862db7cb9-c000.csv\n",
      "/kaggle/input/ciciot2023/part-00161-363d1ba3-8ab5-4f96-bc25-4d5862db7cb9-c000.csv\n",
      "/kaggle/input/ciciot2023/part-00077-363d1ba3-8ab5-4f96-bc25-4d5862db7cb9-c000.csv\n",
      "/kaggle/input/ciciot2023/part-00026-363d1ba3-8ab5-4f96-bc25-4d5862db7cb9-c000.csv\n",
      "/kaggle/input/ciciot2023/part-00065-363d1ba3-8ab5-4f96-bc25-4d5862db7cb9-c000.csv\n",
      "/kaggle/input/ciciot2023/part-00041-363d1ba3-8ab5-4f96-bc25-4d5862db7cb9-c000.csv\n",
      "/kaggle/input/ciciot2023/part-00093-363d1ba3-8ab5-4f96-bc25-4d5862db7cb9-c000.csv\n",
      "/kaggle/input/ciciot2023/part-00016-363d1ba3-8ab5-4f96-bc25-4d5862db7cb9-c000.csv\n",
      "/kaggle/input/ciciot2023/part-00013-363d1ba3-8ab5-4f96-bc25-4d5862db7cb9-c000.csv\n",
      "/kaggle/input/ciciot2023/part-00092-363d1ba3-8ab5-4f96-bc25-4d5862db7cb9-c000.csv\n",
      "/kaggle/input/ciciot2023/part-00156-363d1ba3-8ab5-4f96-bc25-4d5862db7cb9-c000.csv\n",
      "/kaggle/input/ciciot2023/part-00002-363d1ba3-8ab5-4f96-bc25-4d5862db7cb9-c000.csv\n",
      "/kaggle/input/ciciot2023/part-00019-363d1ba3-8ab5-4f96-bc25-4d5862db7cb9-c000.csv\n",
      "/kaggle/input/ciciot2023/part-00153-363d1ba3-8ab5-4f96-bc25-4d5862db7cb9-c000.csv\n",
      "/kaggle/input/ciciot2023/part-00066-363d1ba3-8ab5-4f96-bc25-4d5862db7cb9-c000.csv\n",
      "/kaggle/input/ciciot2023/part-00053-363d1ba3-8ab5-4f96-bc25-4d5862db7cb9-c000.csv\n",
      "/kaggle/input/ciciot2023/part-00032-363d1ba3-8ab5-4f96-bc25-4d5862db7cb9-c000.csv\n",
      "/kaggle/input/ciciot2023/part-00069-363d1ba3-8ab5-4f96-bc25-4d5862db7cb9-c000.csv\n",
      "/kaggle/input/ciciot2023/part-00076-363d1ba3-8ab5-4f96-bc25-4d5862db7cb9-c000.csv\n",
      "/kaggle/input/ciciot2023/part-00075-363d1ba3-8ab5-4f96-bc25-4d5862db7cb9-c000.csv\n",
      "/kaggle/input/ciciot2023/part-00120-363d1ba3-8ab5-4f96-bc25-4d5862db7cb9-c000.csv\n",
      "/kaggle/input/ciciot2023/part-00104-363d1ba3-8ab5-4f96-bc25-4d5862db7cb9-c000.csv\n",
      "/kaggle/input/ciciot2023/part-00011-363d1ba3-8ab5-4f96-bc25-4d5862db7cb9-c000.csv\n",
      "/kaggle/input/ciciot2023/part-00082-363d1ba3-8ab5-4f96-bc25-4d5862db7cb9-c000.csv\n",
      "/kaggle/input/ciciot2023/part-00039-363d1ba3-8ab5-4f96-bc25-4d5862db7cb9-c000.csv\n",
      "/kaggle/input/ciciot2023/part-00168-363d1ba3-8ab5-4f96-bc25-4d5862db7cb9-c000.csv\n",
      "/kaggle/input/ciciot2023/part-00055-363d1ba3-8ab5-4f96-bc25-4d5862db7cb9-c000.csv\n",
      "/kaggle/input/ciciot2023/part-00061-363d1ba3-8ab5-4f96-bc25-4d5862db7cb9-c000.csv\n",
      "/kaggle/input/ciciot2023/part-00071-363d1ba3-8ab5-4f96-bc25-4d5862db7cb9-c000.csv\n",
      "/kaggle/input/ciciot2023/part-00167-363d1ba3-8ab5-4f96-bc25-4d5862db7cb9-c000.csv\n",
      "/kaggle/input/ciciot2023/part-00047-363d1ba3-8ab5-4f96-bc25-4d5862db7cb9-c000.csv\n",
      "/kaggle/input/ciciot2023/part-00162-363d1ba3-8ab5-4f96-bc25-4d5862db7cb9-c000.csv\n",
      "/kaggle/input/ciciot2023/part-00085-363d1ba3-8ab5-4f96-bc25-4d5862db7cb9-c000.csv\n",
      "/kaggle/input/ciciot2023/part-00027-363d1ba3-8ab5-4f96-bc25-4d5862db7cb9-c000.csv\n",
      "/kaggle/input/ciciot2023/part-00040-363d1ba3-8ab5-4f96-bc25-4d5862db7cb9-c000.csv\n",
      "/kaggle/input/ciciot2023/part-00017-363d1ba3-8ab5-4f96-bc25-4d5862db7cb9-c000.csv\n",
      "/kaggle/input/ciciot2023/part-00149-363d1ba3-8ab5-4f96-bc25-4d5862db7cb9-c000.csv\n",
      "/kaggle/input/ciciot2023/part-00133-363d1ba3-8ab5-4f96-bc25-4d5862db7cb9-c000.csv\n",
      "/kaggle/input/ciciot2023/part-00139-363d1ba3-8ab5-4f96-bc25-4d5862db7cb9-c000.csv\n",
      "/kaggle/input/ciciot2023/part-00008-363d1ba3-8ab5-4f96-bc25-4d5862db7cb9-c000.csv\n",
      "/kaggle/input/ciciot2023/part-00129-363d1ba3-8ab5-4f96-bc25-4d5862db7cb9-c000.csv\n",
      "/kaggle/input/ciciot2023/part-00001-363d1ba3-8ab5-4f96-bc25-4d5862db7cb9-c000.csv\n",
      "/kaggle/input/ciciot2023/part-00151-363d1ba3-8ab5-4f96-bc25-4d5862db7cb9-c000.csv\n",
      "/kaggle/input/ciciot2023/part-00158-363d1ba3-8ab5-4f96-bc25-4d5862db7cb9-c000.csv\n",
      "/kaggle/input/ciciot2023/part-00038-363d1ba3-8ab5-4f96-bc25-4d5862db7cb9-c000.csv\n",
      "/kaggle/input/ciciot2023/part-00056-363d1ba3-8ab5-4f96-bc25-4d5862db7cb9-c000.csv\n",
      "/kaggle/input/ciciot2023/part-00107-363d1ba3-8ab5-4f96-bc25-4d5862db7cb9-c000.csv\n",
      "/kaggle/input/ciciot2023/part-00037-363d1ba3-8ab5-4f96-bc25-4d5862db7cb9-c000.csv\n",
      "/kaggle/input/ciciot2023/part-00123-363d1ba3-8ab5-4f96-bc25-4d5862db7cb9-c000.csv\n",
      "/kaggle/input/ciciot2023/part-00095-363d1ba3-8ab5-4f96-bc25-4d5862db7cb9-c000.csv\n",
      "/kaggle/input/ciciot2023/part-00087-363d1ba3-8ab5-4f96-bc25-4d5862db7cb9-c000.csv\n",
      "/kaggle/input/ciciot2023/part-00141-363d1ba3-8ab5-4f96-bc25-4d5862db7cb9-c000.csv\n",
      "/kaggle/input/ciciot2023/part-00045-363d1ba3-8ab5-4f96-bc25-4d5862db7cb9-c000.csv\n",
      "/kaggle/input/ciciot2023/part-00081-363d1ba3-8ab5-4f96-bc25-4d5862db7cb9-c000.csv\n",
      "/kaggle/input/ciciot2023/part-00137-363d1ba3-8ab5-4f96-bc25-4d5862db7cb9-c000.csv\n",
      "/kaggle/input/ciciot2023/part-00046-363d1ba3-8ab5-4f96-bc25-4d5862db7cb9-c000.csv\n",
      "/kaggle/input/ciciot2023/part-00102-363d1ba3-8ab5-4f96-bc25-4d5862db7cb9-c000.csv\n",
      "/kaggle/input/ciciot2023/part-00021-363d1ba3-8ab5-4f96-bc25-4d5862db7cb9-c000.csv\n",
      "/kaggle/input/ciciot2023/part-00031-363d1ba3-8ab5-4f96-bc25-4d5862db7cb9-c000.csv\n",
      "/kaggle/input/ciciot2023/part-00004-363d1ba3-8ab5-4f96-bc25-4d5862db7cb9-c000.csv\n",
      "/kaggle/input/ciciot2023/part-00125-363d1ba3-8ab5-4f96-bc25-4d5862db7cb9-c000.csv\n",
      "/kaggle/input/ciciot2023/part-00012-363d1ba3-8ab5-4f96-bc25-4d5862db7cb9-c000.csv\n",
      "/kaggle/input/ciciot2023/part-00079-363d1ba3-8ab5-4f96-bc25-4d5862db7cb9-c000.csv\n",
      "/kaggle/input/ciciot2023/part-00127-363d1ba3-8ab5-4f96-bc25-4d5862db7cb9-c000.csv\n",
      "/kaggle/input/ciciot2023/part-00088-363d1ba3-8ab5-4f96-bc25-4d5862db7cb9-c000.csv\n",
      "/kaggle/input/ciciot2023/part-00063-363d1ba3-8ab5-4f96-bc25-4d5862db7cb9-c000.csv\n",
      "/kaggle/input/ciciot2023/part-00101-363d1ba3-8ab5-4f96-bc25-4d5862db7cb9-c000.csv\n",
      "/kaggle/input/ciciot2023/part-00090-363d1ba3-8ab5-4f96-bc25-4d5862db7cb9-c000.csv\n",
      "/kaggle/input/ciciot2023/part-00155-363d1ba3-8ab5-4f96-bc25-4d5862db7cb9-c000.csv\n",
      "/kaggle/input/ciciot2023/part-00007-363d1ba3-8ab5-4f96-bc25-4d5862db7cb9-c000.csv\n",
      "/kaggle/input/ciciot2023/part-00100-363d1ba3-8ab5-4f96-bc25-4d5862db7cb9-c000.csv\n",
      "/kaggle/input/ciciot2023/part-00048-363d1ba3-8ab5-4f96-bc25-4d5862db7cb9-c000.csv\n",
      "/kaggle/input/ciciot2023/part-00003-363d1ba3-8ab5-4f96-bc25-4d5862db7cb9-c000.csv\n",
      "/kaggle/input/ciciot2023/part-00152-363d1ba3-8ab5-4f96-bc25-4d5862db7cb9-c000.csv\n",
      "/kaggle/input/ciciot2023/part-00030-363d1ba3-8ab5-4f96-bc25-4d5862db7cb9-c000.csv\n",
      "/kaggle/input/ciciot2023/part-00005-363d1ba3-8ab5-4f96-bc25-4d5862db7cb9-c000.csv\n",
      "/kaggle/input/ciciot2023/part-00086-363d1ba3-8ab5-4f96-bc25-4d5862db7cb9-c000.csv\n",
      "/kaggle/input/ciciot2023/part-00140-363d1ba3-8ab5-4f96-bc25-4d5862db7cb9-c000.csv\n",
      "/kaggle/input/ciciot2023/part-00112-363d1ba3-8ab5-4f96-bc25-4d5862db7cb9-c000.csv\n",
      "/kaggle/input/ciciot2023/part-00166-363d1ba3-8ab5-4f96-bc25-4d5862db7cb9-c000.csv\n",
      "/kaggle/input/ciciot2023/part-00115-363d1ba3-8ab5-4f96-bc25-4d5862db7cb9-c000.csv\n",
      "/kaggle/input/ciciot2023/part-00028-363d1ba3-8ab5-4f96-bc25-4d5862db7cb9-c000.csv\n",
      "/kaggle/input/ciciot2023/part-00074-363d1ba3-8ab5-4f96-bc25-4d5862db7cb9-c000.csv\n",
      "/kaggle/input/ciciot2023/part-00020-363d1ba3-8ab5-4f96-bc25-4d5862db7cb9-c000.csv\n",
      "/kaggle/input/ciciot2023/part-00131-363d1ba3-8ab5-4f96-bc25-4d5862db7cb9-c000.csv\n",
      "/kaggle/input/ciciot2023/part-00098-363d1ba3-8ab5-4f96-bc25-4d5862db7cb9-c000.csv\n",
      "/kaggle/input/ciciot2023/part-00024-363d1ba3-8ab5-4f96-bc25-4d5862db7cb9-c000.csv\n",
      "/kaggle/input/ciciot2023/part-00083-363d1ba3-8ab5-4f96-bc25-4d5862db7cb9-c000.csv\n",
      "/kaggle/input/ciciot2023/part-00022-363d1ba3-8ab5-4f96-bc25-4d5862db7cb9-c000.csv\n",
      "/kaggle/input/ciciot2023/part-00132-363d1ba3-8ab5-4f96-bc25-4d5862db7cb9-c000.csv\n",
      "/kaggle/input/ciciot2023/part-00146-363d1ba3-8ab5-4f96-bc25-4d5862db7cb9-c000.csv\n",
      "/kaggle/input/ciciot2023/part-00000-363d1ba3-8ab5-4f96-bc25-4d5862db7cb9-c000.csv\n",
      "/kaggle/input/ciciot2023/part-00157-363d1ba3-8ab5-4f96-bc25-4d5862db7cb9-c000.csv\n",
      "/kaggle/input/ciciot2023/part-00036-363d1ba3-8ab5-4f96-bc25-4d5862db7cb9-c000.csv\n",
      "/kaggle/input/ciciot2023/part-00023-363d1ba3-8ab5-4f96-bc25-4d5862db7cb9-c000.csv\n",
      "/kaggle/input/ciciot2023/part-00018-363d1ba3-8ab5-4f96-bc25-4d5862db7cb9-c000.csv\n",
      "/kaggle/input/ciciot2023/part-00159-363d1ba3-8ab5-4f96-bc25-4d5862db7cb9-c000.csv\n",
      "/kaggle/input/ciciot2023/part-00111-363d1ba3-8ab5-4f96-bc25-4d5862db7cb9-c000.csv\n",
      "/kaggle/input/ciciot2023/part-00049-363d1ba3-8ab5-4f96-bc25-4d5862db7cb9-c000.csv\n",
      "/kaggle/input/ciciot2023/part-00029-363d1ba3-8ab5-4f96-bc25-4d5862db7cb9-c000.csv\n",
      "/kaggle/input/ciciot2023/part-00043-363d1ba3-8ab5-4f96-bc25-4d5862db7cb9-c000.csv\n",
      "/kaggle/input/ciciot2023/part-00147-363d1ba3-8ab5-4f96-bc25-4d5862db7cb9-c000.csv\n",
      "/kaggle/input/ciciot2023/part-00070-363d1ba3-8ab5-4f96-bc25-4d5862db7cb9-c000.csv\n",
      "/kaggle/input/ciciot2023/part-00121-363d1ba3-8ab5-4f96-bc25-4d5862db7cb9-c000.csv\n",
      "/kaggle/input/ciciot2023/part-00144-363d1ba3-8ab5-4f96-bc25-4d5862db7cb9-c000.csv\n",
      "/kaggle/input/ciciot2023/part-00068-363d1ba3-8ab5-4f96-bc25-4d5862db7cb9-c000.csv\n",
      "/kaggle/input/ciciot2023/part-00164-363d1ba3-8ab5-4f96-bc25-4d5862db7cb9-c000.csv\n",
      "/kaggle/input/ciciot2023/part-00130-363d1ba3-8ab5-4f96-bc25-4d5862db7cb9-c000.csv\n",
      "/kaggle/input/ciciot2023/part-00114-363d1ba3-8ab5-4f96-bc25-4d5862db7cb9-c000.csv\n",
      "/kaggle/input/ciciot2023/part-00084-363d1ba3-8ab5-4f96-bc25-4d5862db7cb9-c000.csv\n",
      "/kaggle/input/ciciot2023/part-00035-363d1ba3-8ab5-4f96-bc25-4d5862db7cb9-c000.csv\n",
      "/kaggle/input/ciciot2023/part-00072-363d1ba3-8ab5-4f96-bc25-4d5862db7cb9-c000.csv\n",
      "/kaggle/input/ciciot2023/part-00116-363d1ba3-8ab5-4f96-bc25-4d5862db7cb9-c000.csv\n",
      "/kaggle/input/ciciot2023/part-00106-363d1ba3-8ab5-4f96-bc25-4d5862db7cb9-c000.csv\n",
      "/kaggle/input/ciciot2023/part-00136-363d1ba3-8ab5-4f96-bc25-4d5862db7cb9-c000.csv\n",
      "/kaggle/input/ciciot2023/part-00103-363d1ba3-8ab5-4f96-bc25-4d5862db7cb9-c000.csv\n",
      "/kaggle/input/ciciot2023/part-00135-363d1ba3-8ab5-4f96-bc25-4d5862db7cb9-c000.csv\n",
      "/kaggle/input/ciciot2023/part-00148-363d1ba3-8ab5-4f96-bc25-4d5862db7cb9-c000.csv\n",
      "/kaggle/input/ciciot2023/part-00094-363d1ba3-8ab5-4f96-bc25-4d5862db7cb9-c000.csv\n",
      "/kaggle/input/ciciot2023/part-00051-363d1ba3-8ab5-4f96-bc25-4d5862db7cb9-c000.csv\n",
      "/kaggle/input/ciciot2023/part-00060-363d1ba3-8ab5-4f96-bc25-4d5862db7cb9-c000.csv\n",
      "/kaggle/input/ciciot2023/part-00044-363d1ba3-8ab5-4f96-bc25-4d5862db7cb9-c000.csv\n",
      "/kaggle/input/ciciot2023/part-00052-363d1ba3-8ab5-4f96-bc25-4d5862db7cb9-c000.csv\n",
      "/kaggle/input/ciciot2023/part-00010-363d1ba3-8ab5-4f96-bc25-4d5862db7cb9-c000.csv\n",
      "/kaggle/input/ciciot2023/part-00154-363d1ba3-8ab5-4f96-bc25-4d5862db7cb9-c000.csv\n",
      "/kaggle/input/ciciot2023/part-00064-363d1ba3-8ab5-4f96-bc25-4d5862db7cb9-c000.csv\n",
      "/kaggle/input/ciciot2023/part-00033-363d1ba3-8ab5-4f96-bc25-4d5862db7cb9-c000.csv\n",
      "/kaggle/input/ciciot2023/part-00165-363d1ba3-8ab5-4f96-bc25-4d5862db7cb9-c000.csv\n",
      "/kaggle/input/ciciot2023/part-00122-363d1ba3-8ab5-4f96-bc25-4d5862db7cb9-c000.csv\n",
      "/kaggle/input/ciciot2023/part-00134-363d1ba3-8ab5-4f96-bc25-4d5862db7cb9-c000.csv\n",
      "/kaggle/input/ciciot2023/part-00006-363d1ba3-8ab5-4f96-bc25-4d5862db7cb9-c000.csv\n",
      "/kaggle/input/ciciot2023/part-00050-363d1ba3-8ab5-4f96-bc25-4d5862db7cb9-c000.csv\n",
      "/kaggle/input/ciciot2023/part-00117-363d1ba3-8ab5-4f96-bc25-4d5862db7cb9-c000.csv\n",
      "/kaggle/input/ciciot2023/part-00119-363d1ba3-8ab5-4f96-bc25-4d5862db7cb9-c000.csv\n",
      "/kaggle/input/ciciot2023/part-00097-363d1ba3-8ab5-4f96-bc25-4d5862db7cb9-c000.csv\n",
      "/kaggle/input/ciciot2023/part-00108-363d1ba3-8ab5-4f96-bc25-4d5862db7cb9-c000.csv\n",
      "/kaggle/input/ciciot2023/part-00099-363d1ba3-8ab5-4f96-bc25-4d5862db7cb9-c000.csv\n",
      "/kaggle/input/ciciot2023/part-00025-363d1ba3-8ab5-4f96-bc25-4d5862db7cb9-c000.csv\n",
      "/kaggle/input/ciciot2023/part-00067-363d1ba3-8ab5-4f96-bc25-4d5862db7cb9-c000.csv\n",
      "/kaggle/input/ciciot2023/part-00080-363d1ba3-8ab5-4f96-bc25-4d5862db7cb9-c000.csv\n",
      "/kaggle/input/ciciot2023/part-00073-363d1ba3-8ab5-4f96-bc25-4d5862db7cb9-c000.csv\n",
      "/kaggle/input/ciciot2023/part-00145-363d1ba3-8ab5-4f96-bc25-4d5862db7cb9-c000.csv\n",
      "/kaggle/input/ciciot2023/part-00057-363d1ba3-8ab5-4f96-bc25-4d5862db7cb9-c000.csv\n",
      "/kaggle/input/ciciot2023/part-00059-363d1ba3-8ab5-4f96-bc25-4d5862db7cb9-c000.csv\n",
      "/kaggle/input/ciciot2023/part-00118-363d1ba3-8ab5-4f96-bc25-4d5862db7cb9-c000.csv\n",
      "/kaggle/input/ciciot2023/part-00142-363d1ba3-8ab5-4f96-bc25-4d5862db7cb9-c000.csv\n",
      "/kaggle/input/ciciot2023/part-00163-363d1ba3-8ab5-4f96-bc25-4d5862db7cb9-c000.csv\n",
      "/kaggle/input/ciciot2023/part-00124-363d1ba3-8ab5-4f96-bc25-4d5862db7cb9-c000.csv\n",
      "/kaggle/input/ciciot2023/part-00014-363d1ba3-8ab5-4f96-bc25-4d5862db7cb9-c000.csv\n",
      "/kaggle/input/ciciot2023/part-00109-363d1ba3-8ab5-4f96-bc25-4d5862db7cb9-c000.csv\n",
      "/kaggle/input/ciciot2023/part-00062-363d1ba3-8ab5-4f96-bc25-4d5862db7cb9-c000.csv\n",
      "/kaggle/input/ciciot2023/part-00009-363d1ba3-8ab5-4f96-bc25-4d5862db7cb9-c000.csv\n",
      "/kaggle/input/ciciot2023/part-00015-363d1ba3-8ab5-4f96-bc25-4d5862db7cb9-c000.csv\n",
      "/kaggle/input/ciciot2023/part-00143-363d1ba3-8ab5-4f96-bc25-4d5862db7cb9-c000.csv\n",
      "/kaggle/input/ciciot2023/part-00150-363d1ba3-8ab5-4f96-bc25-4d5862db7cb9-c000.csv\n",
      "/kaggle/input/ciciot2023/part-00126-363d1ba3-8ab5-4f96-bc25-4d5862db7cb9-c000.csv\n",
      "/kaggle/input/ciciot2023/part-00138-363d1ba3-8ab5-4f96-bc25-4d5862db7cb9-c000.csv\n",
      "/kaggle/input/ciciot2023/part-00054-363d1ba3-8ab5-4f96-bc25-4d5862db7cb9-c000.csv\n"
     ]
    }
   ],
   "source": [
    "import numpy as np\n",
    "import pandas as pd\n",
    "\n",
    "import os\n",
    "for dirname, _, filenames in os.walk('/kaggle/input/ciciot2023'):\n",
    "    for filename in filenames:\n",
    "        print(os.path.join(dirname, filename))"
   ]
  },
  {
   "cell_type": "code",
   "execution_count": 2,
   "id": "f53d0e36",
   "metadata": {
    "execution": {
     "iopub.execute_input": "2023-06-24T11:36:50.664237Z",
     "iopub.status.busy": "2023-06-24T11:36:50.663440Z",
     "iopub.status.idle": "2023-06-24T11:37:31.150861Z",
     "shell.execute_reply": "2023-06-24T11:37:31.149281Z"
    },
    "papermill": {
     "duration": 40.508218,
     "end_time": "2023-06-24T11:37:31.161549",
     "exception": false,
     "start_time": "2023-06-24T11:36:50.653331",
     "status": "completed"
    },
    "tags": []
   },
   "outputs": [
    {
     "name": "stdout",
     "output_type": "stream",
     "text": [
      "Parallel execution time: 40.43 seconds\n"
     ]
    }
   ],
   "source": [
    "import time\n",
    "import pandas as pd\n",
    "import multiprocessing\n",
    "\n",
    "def read_csv(filename):\n",
    "    return pd.read_csv(filename)\n",
    "\n",
    "csvs = []\n",
    "pool = multiprocessing.Pool()\n",
    "\n",
    "start_time = time.time()\n",
    "\n",
    "for i in range(10, 39):\n",
    "    filename = \"/kaggle/input/ciciot2023/part-000{}-363d1ba3-8ab5-4f96-bc25-4d5862db7cb9-c000.csv\".format(i)\n",
    "    result = pool.apply_async(read_csv, (filename,))\n",
    "    csvs.append(result)\n",
    "\n",
    "# Wait for all processes to complete\n",
    "pool.close()\n",
    "pool.join()\n",
    "\n",
    "end_time = time.time()\n",
    "execution_time = end_time - start_time\n",
    "\n",
    "# Retrieve the results\n",
    "csvs = [result.get() for result in csvs]\n",
    "\n",
    "print(\"Parallel execution time: {:.2f} seconds\".format(execution_time))"
   ]
  },
  {
   "cell_type": "code",
   "execution_count": 3,
   "id": "5166ca3e",
   "metadata": {
    "execution": {
     "iopub.execute_input": "2023-06-24T11:37:31.180899Z",
     "iopub.status.busy": "2023-06-24T11:37:31.180494Z",
     "iopub.status.idle": "2023-06-24T11:37:34.208615Z",
     "shell.execute_reply": "2023-06-24T11:37:34.207288Z"
    },
    "papermill": {
     "duration": 3.041392,
     "end_time": "2023-06-24T11:37:34.211484",
     "exception": false,
     "start_time": "2023-06-24T11:37:31.170092",
     "status": "completed"
    },
    "tags": []
   },
   "outputs": [
    {
     "data": {
      "text/html": [
       "<div>\n",
       "<style scoped>\n",
       "    .dataframe tbody tr th:only-of-type {\n",
       "        vertical-align: middle;\n",
       "    }\n",
       "\n",
       "    .dataframe tbody tr th {\n",
       "        vertical-align: top;\n",
       "    }\n",
       "\n",
       "    .dataframe thead th {\n",
       "        text-align: right;\n",
       "    }\n",
       "</style>\n",
       "<table border=\"1\" class=\"dataframe\">\n",
       "  <thead>\n",
       "    <tr style=\"text-align: right;\">\n",
       "      <th></th>\n",
       "      <th>flow_duration</th>\n",
       "      <th>Header_Length</th>\n",
       "      <th>Protocol Type</th>\n",
       "      <th>Duration</th>\n",
       "      <th>Rate</th>\n",
       "      <th>Srate</th>\n",
       "      <th>Drate</th>\n",
       "      <th>fin_flag_number</th>\n",
       "      <th>syn_flag_number</th>\n",
       "      <th>rst_flag_number</th>\n",
       "      <th>...</th>\n",
       "      <th>Std</th>\n",
       "      <th>Tot size</th>\n",
       "      <th>IAT</th>\n",
       "      <th>Number</th>\n",
       "      <th>Magnitue</th>\n",
       "      <th>Radius</th>\n",
       "      <th>Covariance</th>\n",
       "      <th>Variance</th>\n",
       "      <th>Weight</th>\n",
       "      <th>label</th>\n",
       "    </tr>\n",
       "  </thead>\n",
       "  <tbody>\n",
       "    <tr>\n",
       "      <th>0</th>\n",
       "      <td>0.000000</td>\n",
       "      <td>54.0</td>\n",
       "      <td>6.00</td>\n",
       "      <td>64.00</td>\n",
       "      <td>27.739647</td>\n",
       "      <td>27.739647</td>\n",
       "      <td>0.0</td>\n",
       "      <td>0.0</td>\n",
       "      <td>0.0</td>\n",
       "      <td>0.0</td>\n",
       "      <td>...</td>\n",
       "      <td>0.000000</td>\n",
       "      <td>54.0</td>\n",
       "      <td>8.333125e+07</td>\n",
       "      <td>9.5</td>\n",
       "      <td>10.392305</td>\n",
       "      <td>0.000000</td>\n",
       "      <td>0.000000</td>\n",
       "      <td>0.00</td>\n",
       "      <td>141.55</td>\n",
       "      <td>DDoS-PSHACK_Flood</td>\n",
       "    </tr>\n",
       "    <tr>\n",
       "      <th>1</th>\n",
       "      <td>0.005011</td>\n",
       "      <td>6831.0</td>\n",
       "      <td>16.83</td>\n",
       "      <td>63.36</td>\n",
       "      <td>27292.469571</td>\n",
       "      <td>27292.469571</td>\n",
       "      <td>0.0</td>\n",
       "      <td>0.0</td>\n",
       "      <td>0.0</td>\n",
       "      <td>0.0</td>\n",
       "      <td>...</td>\n",
       "      <td>0.377989</td>\n",
       "      <td>50.1</td>\n",
       "      <td>8.301666e+07</td>\n",
       "      <td>9.5</td>\n",
       "      <td>10.011452</td>\n",
       "      <td>0.535314</td>\n",
       "      <td>1.045327</td>\n",
       "      <td>0.14</td>\n",
       "      <td>141.55</td>\n",
       "      <td>DoS-UDP_Flood</td>\n",
       "    </tr>\n",
       "    <tr>\n",
       "      <th>2</th>\n",
       "      <td>4.539816</td>\n",
       "      <td>108.0</td>\n",
       "      <td>6.00</td>\n",
       "      <td>64.00</td>\n",
       "      <td>0.440547</td>\n",
       "      <td>0.440547</td>\n",
       "      <td>0.0</td>\n",
       "      <td>0.0</td>\n",
       "      <td>0.0</td>\n",
       "      <td>0.0</td>\n",
       "      <td>...</td>\n",
       "      <td>0.000000</td>\n",
       "      <td>54.0</td>\n",
       "      <td>8.295607e+07</td>\n",
       "      <td>9.5</td>\n",
       "      <td>10.392305</td>\n",
       "      <td>0.000000</td>\n",
       "      <td>0.000000</td>\n",
       "      <td>0.00</td>\n",
       "      <td>141.55</td>\n",
       "      <td>DoS-TCP_Flood</td>\n",
       "    </tr>\n",
       "    <tr>\n",
       "      <th>3</th>\n",
       "      <td>4.501544</td>\n",
       "      <td>108.0</td>\n",
       "      <td>6.00</td>\n",
       "      <td>64.00</td>\n",
       "      <td>0.444292</td>\n",
       "      <td>0.444292</td>\n",
       "      <td>0.0</td>\n",
       "      <td>0.0</td>\n",
       "      <td>0.0</td>\n",
       "      <td>0.0</td>\n",
       "      <td>...</td>\n",
       "      <td>0.000000</td>\n",
       "      <td>54.0</td>\n",
       "      <td>8.294753e+07</td>\n",
       "      <td>9.5</td>\n",
       "      <td>10.392305</td>\n",
       "      <td>0.000000</td>\n",
       "      <td>0.000000</td>\n",
       "      <td>0.00</td>\n",
       "      <td>141.55</td>\n",
       "      <td>DoS-TCP_Flood</td>\n",
       "    </tr>\n",
       "    <tr>\n",
       "      <th>4</th>\n",
       "      <td>0.186995</td>\n",
       "      <td>268413.0</td>\n",
       "      <td>17.00</td>\n",
       "      <td>64.00</td>\n",
       "      <td>2597.167113</td>\n",
       "      <td>2597.167113</td>\n",
       "      <td>0.0</td>\n",
       "      <td>0.0</td>\n",
       "      <td>0.0</td>\n",
       "      <td>0.0</td>\n",
       "      <td>...</td>\n",
       "      <td>0.000000</td>\n",
       "      <td>554.0</td>\n",
       "      <td>8.378470e+07</td>\n",
       "      <td>9.5</td>\n",
       "      <td>33.286634</td>\n",
       "      <td>0.000000</td>\n",
       "      <td>0.000000</td>\n",
       "      <td>0.00</td>\n",
       "      <td>141.55</td>\n",
       "      <td>Mirai-udpplain</td>\n",
       "    </tr>\n",
       "  </tbody>\n",
       "</table>\n",
       "<p>5 rows × 47 columns</p>\n",
       "</div>"
      ],
      "text/plain": [
       "   flow_duration  Header_Length  Protocol Type  Duration          Rate  \\\n",
       "0       0.000000           54.0           6.00     64.00     27.739647   \n",
       "1       0.005011         6831.0          16.83     63.36  27292.469571   \n",
       "2       4.539816          108.0           6.00     64.00      0.440547   \n",
       "3       4.501544          108.0           6.00     64.00      0.444292   \n",
       "4       0.186995       268413.0          17.00     64.00   2597.167113   \n",
       "\n",
       "          Srate  Drate  fin_flag_number  syn_flag_number  rst_flag_number  \\\n",
       "0     27.739647    0.0              0.0              0.0              0.0   \n",
       "1  27292.469571    0.0              0.0              0.0              0.0   \n",
       "2      0.440547    0.0              0.0              0.0              0.0   \n",
       "3      0.444292    0.0              0.0              0.0              0.0   \n",
       "4   2597.167113    0.0              0.0              0.0              0.0   \n",
       "\n",
       "   ...       Std  Tot size           IAT  Number   Magnitue    Radius  \\\n",
       "0  ...  0.000000      54.0  8.333125e+07     9.5  10.392305  0.000000   \n",
       "1  ...  0.377989      50.1  8.301666e+07     9.5  10.011452  0.535314   \n",
       "2  ...  0.000000      54.0  8.295607e+07     9.5  10.392305  0.000000   \n",
       "3  ...  0.000000      54.0  8.294753e+07     9.5  10.392305  0.000000   \n",
       "4  ...  0.000000     554.0  8.378470e+07     9.5  33.286634  0.000000   \n",
       "\n",
       "   Covariance  Variance  Weight              label  \n",
       "0    0.000000      0.00  141.55  DDoS-PSHACK_Flood  \n",
       "1    1.045327      0.14  141.55      DoS-UDP_Flood  \n",
       "2    0.000000      0.00  141.55      DoS-TCP_Flood  \n",
       "3    0.000000      0.00  141.55      DoS-TCP_Flood  \n",
       "4    0.000000      0.00  141.55     Mirai-udpplain  \n",
       "\n",
       "[5 rows x 47 columns]"
      ]
     },
     "execution_count": 3,
     "metadata": {},
     "output_type": "execute_result"
    }
   ],
   "source": [
    "dataset = pd.concat(csvs).reset_index(drop = True) # Import\n",
    "dataset.head()"
   ]
  },
  {
   "cell_type": "code",
   "execution_count": 4,
   "id": "ba17c575",
   "metadata": {
    "execution": {
     "iopub.execute_input": "2023-06-24T11:37:34.233777Z",
     "iopub.status.busy": "2023-06-24T11:37:34.233341Z",
     "iopub.status.idle": "2023-06-24T11:37:34.241432Z",
     "shell.execute_reply": "2023-06-24T11:37:34.240258Z"
    },
    "papermill": {
     "duration": 0.021304,
     "end_time": "2023-06-24T11:37:34.243986",
     "exception": false,
     "start_time": "2023-06-24T11:37:34.222682",
     "status": "completed"
    },
    "tags": []
   },
   "outputs": [
    {
     "data": {
      "text/plain": [
       "(7483406, 47)"
      ]
     },
     "execution_count": 4,
     "metadata": {},
     "output_type": "execute_result"
    }
   ],
   "source": [
    "dataset.shape"
   ]
  },
  {
   "cell_type": "code",
   "execution_count": 5,
   "id": "2870831b",
   "metadata": {
    "execution": {
     "iopub.execute_input": "2023-06-24T11:37:34.264943Z",
     "iopub.status.busy": "2023-06-24T11:37:34.264534Z",
     "iopub.status.idle": "2023-06-24T11:37:34.295768Z",
     "shell.execute_reply": "2023-06-24T11:37:34.294583Z"
    },
    "papermill": {
     "duration": 0.044965,
     "end_time": "2023-06-24T11:37:34.298567",
     "exception": false,
     "start_time": "2023-06-24T11:37:34.253602",
     "status": "completed"
    },
    "tags": []
   },
   "outputs": [
    {
     "name": "stdout",
     "output_type": "stream",
     "text": [
      "<class 'pandas.core.frame.DataFrame'>\n",
      "RangeIndex: 7483406 entries, 0 to 7483405\n",
      "Data columns (total 47 columns):\n",
      " #   Column           Dtype  \n",
      "---  ------           -----  \n",
      " 0   flow_duration    float64\n",
      " 1   Header_Length    float64\n",
      " 2   Protocol Type    float64\n",
      " 3   Duration         float64\n",
      " 4   Rate             float64\n",
      " 5   Srate            float64\n",
      " 6   Drate            float64\n",
      " 7   fin_flag_number  float64\n",
      " 8   syn_flag_number  float64\n",
      " 9   rst_flag_number  float64\n",
      " 10  psh_flag_number  float64\n",
      " 11  ack_flag_number  float64\n",
      " 12  ece_flag_number  float64\n",
      " 13  cwr_flag_number  float64\n",
      " 14  ack_count        float64\n",
      " 15  syn_count        float64\n",
      " 16  fin_count        float64\n",
      " 17  urg_count        float64\n",
      " 18  rst_count        float64\n",
      " 19  HTTP             float64\n",
      " 20  HTTPS            float64\n",
      " 21  DNS              float64\n",
      " 22  Telnet           float64\n",
      " 23  SMTP             float64\n",
      " 24  SSH              float64\n",
      " 25  IRC              float64\n",
      " 26  TCP              float64\n",
      " 27  UDP              float64\n",
      " 28  DHCP             float64\n",
      " 29  ARP              float64\n",
      " 30  ICMP             float64\n",
      " 31  IPv              float64\n",
      " 32  LLC              float64\n",
      " 33  Tot sum          float64\n",
      " 34  Min              float64\n",
      " 35  Max              float64\n",
      " 36  AVG              float64\n",
      " 37  Std              float64\n",
      " 38  Tot size         float64\n",
      " 39  IAT              float64\n",
      " 40  Number           float64\n",
      " 41  Magnitue         float64\n",
      " 42  Radius           float64\n",
      " 43  Covariance       float64\n",
      " 44  Variance         float64\n",
      " 45  Weight           float64\n",
      " 46  label            object \n",
      "dtypes: float64(46), object(1)\n",
      "memory usage: 2.6+ GB\n"
     ]
    }
   ],
   "source": [
    "dataset.info()\n"
   ]
  },
  {
   "cell_type": "code",
   "execution_count": 6,
   "id": "de1285a8",
   "metadata": {
    "execution": {
     "iopub.execute_input": "2023-06-24T11:37:34.319898Z",
     "iopub.status.busy": "2023-06-24T11:37:34.319503Z",
     "iopub.status.idle": "2023-06-24T11:37:48.823658Z",
     "shell.execute_reply": "2023-06-24T11:37:48.822290Z"
    },
    "papermill": {
     "duration": 14.518281,
     "end_time": "2023-06-24T11:37:48.826435",
     "exception": false,
     "start_time": "2023-06-24T11:37:34.308154",
     "status": "completed"
    },
    "tags": []
   },
   "outputs": [
    {
     "data": {
      "text/html": [
       "<div>\n",
       "<style scoped>\n",
       "    .dataframe tbody tr th:only-of-type {\n",
       "        vertical-align: middle;\n",
       "    }\n",
       "\n",
       "    .dataframe tbody tr th {\n",
       "        vertical-align: top;\n",
       "    }\n",
       "\n",
       "    .dataframe thead th {\n",
       "        text-align: right;\n",
       "    }\n",
       "</style>\n",
       "<table border=\"1\" class=\"dataframe\">\n",
       "  <thead>\n",
       "    <tr style=\"text-align: right;\">\n",
       "      <th></th>\n",
       "      <th>flow_duration</th>\n",
       "      <th>Header_Length</th>\n",
       "      <th>Protocol Type</th>\n",
       "      <th>Duration</th>\n",
       "      <th>Rate</th>\n",
       "      <th>Srate</th>\n",
       "      <th>Drate</th>\n",
       "      <th>fin_flag_number</th>\n",
       "      <th>syn_flag_number</th>\n",
       "      <th>rst_flag_number</th>\n",
       "      <th>...</th>\n",
       "      <th>AVG</th>\n",
       "      <th>Std</th>\n",
       "      <th>Tot size</th>\n",
       "      <th>IAT</th>\n",
       "      <th>Number</th>\n",
       "      <th>Magnitue</th>\n",
       "      <th>Radius</th>\n",
       "      <th>Covariance</th>\n",
       "      <th>Variance</th>\n",
       "      <th>Weight</th>\n",
       "    </tr>\n",
       "  </thead>\n",
       "  <tbody>\n",
       "    <tr>\n",
       "      <th>count</th>\n",
       "      <td>7.483406e+06</td>\n",
       "      <td>7.483406e+06</td>\n",
       "      <td>7.483406e+06</td>\n",
       "      <td>7.483406e+06</td>\n",
       "      <td>7.483406e+06</td>\n",
       "      <td>7.483406e+06</td>\n",
       "      <td>7.483406e+06</td>\n",
       "      <td>7.483406e+06</td>\n",
       "      <td>7.483406e+06</td>\n",
       "      <td>7.483406e+06</td>\n",
       "      <td>...</td>\n",
       "      <td>7.483406e+06</td>\n",
       "      <td>7.483406e+06</td>\n",
       "      <td>7.483406e+06</td>\n",
       "      <td>7.483406e+06</td>\n",
       "      <td>7.483406e+06</td>\n",
       "      <td>7.483406e+06</td>\n",
       "      <td>7.483406e+06</td>\n",
       "      <td>7.483406e+06</td>\n",
       "      <td>7.483406e+06</td>\n",
       "      <td>7.483406e+06</td>\n",
       "    </tr>\n",
       "    <tr>\n",
       "      <th>mean</th>\n",
       "      <td>5.683018e+00</td>\n",
       "      <td>7.664121e+04</td>\n",
       "      <td>9.069830e+00</td>\n",
       "      <td>6.635824e+01</td>\n",
       "      <td>9.070311e+03</td>\n",
       "      <td>9.070311e+03</td>\n",
       "      <td>7.583956e-06</td>\n",
       "      <td>8.651301e-02</td>\n",
       "      <td>2.071527e-01</td>\n",
       "      <td>9.045600e-02</td>\n",
       "      <td>...</td>\n",
       "      <td>1.248331e+02</td>\n",
       "      <td>3.343603e+01</td>\n",
       "      <td>1.248265e+02</td>\n",
       "      <td>8.318493e+07</td>\n",
       "      <td>9.498598e+00</td>\n",
       "      <td>1.312794e+01</td>\n",
       "      <td>4.725216e+01</td>\n",
       "      <td>3.078110e+04</td>\n",
       "      <td>9.658547e-02</td>\n",
       "      <td>1.415155e+02</td>\n",
       "    </tr>\n",
       "    <tr>\n",
       "      <th>std</th>\n",
       "      <td>2.656252e+02</td>\n",
       "      <td>4.602743e+05</td>\n",
       "      <td>8.949797e+00</td>\n",
       "      <td>1.403601e+01</td>\n",
       "      <td>1.000139e+05</td>\n",
       "      <td>1.000139e+05</td>\n",
       "      <td>1.117252e-02</td>\n",
       "      <td>2.811201e-01</td>\n",
       "      <td>4.052660e-01</td>\n",
       "      <td>2.868340e-01</td>\n",
       "      <td>...</td>\n",
       "      <td>2.414237e+02</td>\n",
       "      <td>1.604726e+02</td>\n",
       "      <td>2.416523e+02</td>\n",
       "      <td>1.705570e+07</td>\n",
       "      <td>8.197269e-01</td>\n",
       "      <td>8.637729e+00</td>\n",
       "      <td>2.269612e+02</td>\n",
       "      <td>3.182201e+05</td>\n",
       "      <td>2.332408e-01</td>\n",
       "      <td>2.108030e+01</td>\n",
       "    </tr>\n",
       "    <tr>\n",
       "      <th>min</th>\n",
       "      <td>0.000000e+00</td>\n",
       "      <td>0.000000e+00</td>\n",
       "      <td>0.000000e+00</td>\n",
       "      <td>0.000000e+00</td>\n",
       "      <td>0.000000e+00</td>\n",
       "      <td>0.000000e+00</td>\n",
       "      <td>0.000000e+00</td>\n",
       "      <td>0.000000e+00</td>\n",
       "      <td>0.000000e+00</td>\n",
       "      <td>0.000000e+00</td>\n",
       "      <td>...</td>\n",
       "      <td>4.200000e+01</td>\n",
       "      <td>0.000000e+00</td>\n",
       "      <td>4.200000e+01</td>\n",
       "      <td>0.000000e+00</td>\n",
       "      <td>1.000000e+00</td>\n",
       "      <td>9.165151e+00</td>\n",
       "      <td>0.000000e+00</td>\n",
       "      <td>0.000000e+00</td>\n",
       "      <td>0.000000e+00</td>\n",
       "      <td>1.000000e+00</td>\n",
       "    </tr>\n",
       "    <tr>\n",
       "      <th>25%</th>\n",
       "      <td>0.000000e+00</td>\n",
       "      <td>5.400000e+01</td>\n",
       "      <td>6.000000e+00</td>\n",
       "      <td>6.400000e+01</td>\n",
       "      <td>2.091844e+00</td>\n",
       "      <td>2.091844e+00</td>\n",
       "      <td>0.000000e+00</td>\n",
       "      <td>0.000000e+00</td>\n",
       "      <td>0.000000e+00</td>\n",
       "      <td>0.000000e+00</td>\n",
       "      <td>...</td>\n",
       "      <td>5.000000e+01</td>\n",
       "      <td>0.000000e+00</td>\n",
       "      <td>5.000000e+01</td>\n",
       "      <td>8.307157e+07</td>\n",
       "      <td>9.500000e+00</td>\n",
       "      <td>1.000000e+01</td>\n",
       "      <td>0.000000e+00</td>\n",
       "      <td>0.000000e+00</td>\n",
       "      <td>0.000000e+00</td>\n",
       "      <td>1.415500e+02</td>\n",
       "    </tr>\n",
       "    <tr>\n",
       "      <th>50%</th>\n",
       "      <td>0.000000e+00</td>\n",
       "      <td>5.400000e+01</td>\n",
       "      <td>6.000000e+00</td>\n",
       "      <td>6.400000e+01</td>\n",
       "      <td>1.577386e+01</td>\n",
       "      <td>1.577386e+01</td>\n",
       "      <td>0.000000e+00</td>\n",
       "      <td>0.000000e+00</td>\n",
       "      <td>0.000000e+00</td>\n",
       "      <td>0.000000e+00</td>\n",
       "      <td>...</td>\n",
       "      <td>5.400000e+01</td>\n",
       "      <td>0.000000e+00</td>\n",
       "      <td>5.400000e+01</td>\n",
       "      <td>8.312452e+07</td>\n",
       "      <td>9.500000e+00</td>\n",
       "      <td>1.039230e+01</td>\n",
       "      <td>0.000000e+00</td>\n",
       "      <td>0.000000e+00</td>\n",
       "      <td>0.000000e+00</td>\n",
       "      <td>1.415500e+02</td>\n",
       "    </tr>\n",
       "    <tr>\n",
       "      <th>75%</th>\n",
       "      <td>1.052847e-01</td>\n",
       "      <td>2.929275e+02</td>\n",
       "      <td>1.444000e+01</td>\n",
       "      <td>6.400000e+01</td>\n",
       "      <td>1.177634e+02</td>\n",
       "      <td>1.177634e+02</td>\n",
       "      <td>0.000000e+00</td>\n",
       "      <td>0.000000e+00</td>\n",
       "      <td>0.000000e+00</td>\n",
       "      <td>0.000000e+00</td>\n",
       "      <td>...</td>\n",
       "      <td>5.405011e+01</td>\n",
       "      <td>3.722288e-01</td>\n",
       "      <td>5.406000e+01</td>\n",
       "      <td>8.334391e+07</td>\n",
       "      <td>9.500000e+00</td>\n",
       "      <td>1.039671e+01</td>\n",
       "      <td>5.059213e-01</td>\n",
       "      <td>1.345884e+00</td>\n",
       "      <td>8.000000e-02</td>\n",
       "      <td>1.415500e+02</td>\n",
       "    </tr>\n",
       "    <tr>\n",
       "      <th>max</th>\n",
       "      <td>7.487996e+04</td>\n",
       "      <td>9.905359e+06</td>\n",
       "      <td>4.700000e+01</td>\n",
       "      <td>2.550000e+02</td>\n",
       "      <td>8.388608e+06</td>\n",
       "      <td>8.388608e+06</td>\n",
       "      <td>2.805555e+01</td>\n",
       "      <td>1.000000e+00</td>\n",
       "      <td>1.000000e+00</td>\n",
       "      <td>1.000000e+00</td>\n",
       "      <td>...</td>\n",
       "      <td>1.160047e+04</td>\n",
       "      <td>9.302373e+03</td>\n",
       "      <td>7.885200e+03</td>\n",
       "      <td>1.676394e+08</td>\n",
       "      <td>1.500000e+01</td>\n",
       "      <td>1.453904e+02</td>\n",
       "      <td>1.315554e+04</td>\n",
       "      <td>9.670837e+07</td>\n",
       "      <td>1.000000e+00</td>\n",
       "      <td>2.446000e+02</td>\n",
       "    </tr>\n",
       "  </tbody>\n",
       "</table>\n",
       "<p>8 rows × 46 columns</p>\n",
       "</div>"
      ],
      "text/plain": [
       "       flow_duration  Header_Length  Protocol Type      Duration  \\\n",
       "count   7.483406e+06   7.483406e+06   7.483406e+06  7.483406e+06   \n",
       "mean    5.683018e+00   7.664121e+04   9.069830e+00  6.635824e+01   \n",
       "std     2.656252e+02   4.602743e+05   8.949797e+00  1.403601e+01   \n",
       "min     0.000000e+00   0.000000e+00   0.000000e+00  0.000000e+00   \n",
       "25%     0.000000e+00   5.400000e+01   6.000000e+00  6.400000e+01   \n",
       "50%     0.000000e+00   5.400000e+01   6.000000e+00  6.400000e+01   \n",
       "75%     1.052847e-01   2.929275e+02   1.444000e+01  6.400000e+01   \n",
       "max     7.487996e+04   9.905359e+06   4.700000e+01  2.550000e+02   \n",
       "\n",
       "               Rate         Srate         Drate  fin_flag_number  \\\n",
       "count  7.483406e+06  7.483406e+06  7.483406e+06     7.483406e+06   \n",
       "mean   9.070311e+03  9.070311e+03  7.583956e-06     8.651301e-02   \n",
       "std    1.000139e+05  1.000139e+05  1.117252e-02     2.811201e-01   \n",
       "min    0.000000e+00  0.000000e+00  0.000000e+00     0.000000e+00   \n",
       "25%    2.091844e+00  2.091844e+00  0.000000e+00     0.000000e+00   \n",
       "50%    1.577386e+01  1.577386e+01  0.000000e+00     0.000000e+00   \n",
       "75%    1.177634e+02  1.177634e+02  0.000000e+00     0.000000e+00   \n",
       "max    8.388608e+06  8.388608e+06  2.805555e+01     1.000000e+00   \n",
       "\n",
       "       syn_flag_number  rst_flag_number  ...           AVG           Std  \\\n",
       "count     7.483406e+06     7.483406e+06  ...  7.483406e+06  7.483406e+06   \n",
       "mean      2.071527e-01     9.045600e-02  ...  1.248331e+02  3.343603e+01   \n",
       "std       4.052660e-01     2.868340e-01  ...  2.414237e+02  1.604726e+02   \n",
       "min       0.000000e+00     0.000000e+00  ...  4.200000e+01  0.000000e+00   \n",
       "25%       0.000000e+00     0.000000e+00  ...  5.000000e+01  0.000000e+00   \n",
       "50%       0.000000e+00     0.000000e+00  ...  5.400000e+01  0.000000e+00   \n",
       "75%       0.000000e+00     0.000000e+00  ...  5.405011e+01  3.722288e-01   \n",
       "max       1.000000e+00     1.000000e+00  ...  1.160047e+04  9.302373e+03   \n",
       "\n",
       "           Tot size           IAT        Number      Magnitue        Radius  \\\n",
       "count  7.483406e+06  7.483406e+06  7.483406e+06  7.483406e+06  7.483406e+06   \n",
       "mean   1.248265e+02  8.318493e+07  9.498598e+00  1.312794e+01  4.725216e+01   \n",
       "std    2.416523e+02  1.705570e+07  8.197269e-01  8.637729e+00  2.269612e+02   \n",
       "min    4.200000e+01  0.000000e+00  1.000000e+00  9.165151e+00  0.000000e+00   \n",
       "25%    5.000000e+01  8.307157e+07  9.500000e+00  1.000000e+01  0.000000e+00   \n",
       "50%    5.400000e+01  8.312452e+07  9.500000e+00  1.039230e+01  0.000000e+00   \n",
       "75%    5.406000e+01  8.334391e+07  9.500000e+00  1.039671e+01  5.059213e-01   \n",
       "max    7.885200e+03  1.676394e+08  1.500000e+01  1.453904e+02  1.315554e+04   \n",
       "\n",
       "         Covariance      Variance        Weight  \n",
       "count  7.483406e+06  7.483406e+06  7.483406e+06  \n",
       "mean   3.078110e+04  9.658547e-02  1.415155e+02  \n",
       "std    3.182201e+05  2.332408e-01  2.108030e+01  \n",
       "min    0.000000e+00  0.000000e+00  1.000000e+00  \n",
       "25%    0.000000e+00  0.000000e+00  1.415500e+02  \n",
       "50%    0.000000e+00  0.000000e+00  1.415500e+02  \n",
       "75%    1.345884e+00  8.000000e-02  1.415500e+02  \n",
       "max    9.670837e+07  1.000000e+00  2.446000e+02  \n",
       "\n",
       "[8 rows x 46 columns]"
      ]
     },
     "execution_count": 6,
     "metadata": {},
     "output_type": "execute_result"
    }
   ],
   "source": [
    "dataset.describe()"
   ]
  },
  {
   "cell_type": "code",
   "execution_count": 7,
   "id": "9839e510",
   "metadata": {
    "execution": {
     "iopub.execute_input": "2023-06-24T11:37:48.848973Z",
     "iopub.status.busy": "2023-06-24T11:37:48.848549Z",
     "iopub.status.idle": "2023-06-24T11:37:51.718173Z",
     "shell.execute_reply": "2023-06-24T11:37:51.716975Z"
    },
    "papermill": {
     "duration": 2.884631,
     "end_time": "2023-06-24T11:37:51.721145",
     "exception": false,
     "start_time": "2023-06-24T11:37:48.836514",
     "status": "completed"
    },
    "tags": []
   },
   "outputs": [
    {
     "data": {
      "text/plain": [
       "flow_duration      0.0\n",
       "Header_Length      0.0\n",
       "Protocol Type      0.0\n",
       "Duration           0.0\n",
       "Rate               0.0\n",
       "Srate              0.0\n",
       "Drate              0.0\n",
       "fin_flag_number    0.0\n",
       "syn_flag_number    0.0\n",
       "rst_flag_number    0.0\n",
       "psh_flag_number    0.0\n",
       "ack_flag_number    0.0\n",
       "ece_flag_number    0.0\n",
       "cwr_flag_number    0.0\n",
       "ack_count          0.0\n",
       "syn_count          0.0\n",
       "fin_count          0.0\n",
       "urg_count          0.0\n",
       "rst_count          0.0\n",
       "HTTP               0.0\n",
       "HTTPS              0.0\n",
       "DNS                0.0\n",
       "Telnet             0.0\n",
       "SMTP               0.0\n",
       "SSH                0.0\n",
       "IRC                0.0\n",
       "TCP                0.0\n",
       "UDP                0.0\n",
       "DHCP               0.0\n",
       "ARP                0.0\n",
       "ICMP               0.0\n",
       "IPv                0.0\n",
       "LLC                0.0\n",
       "Tot sum            0.0\n",
       "Min                0.0\n",
       "Max                0.0\n",
       "AVG                0.0\n",
       "Std                0.0\n",
       "Tot size           0.0\n",
       "IAT                0.0\n",
       "Number             0.0\n",
       "Magnitue           0.0\n",
       "Radius             0.0\n",
       "Covariance         0.0\n",
       "Variance           0.0\n",
       "Weight             0.0\n",
       "label              0.0\n",
       "dtype: float64"
      ]
     },
     "execution_count": 7,
     "metadata": {},
     "output_type": "execute_result"
    }
   ],
   "source": [
    "#Menghitung persentase null dalam kolom\n",
    "dataset_null = round(100*(dataset.isnull().sum())/len(dataset), 2)\n",
    "dataset_null"
   ]
  },
  {
   "cell_type": "code",
   "execution_count": 8,
   "id": "4215a875",
   "metadata": {
    "execution": {
     "iopub.execute_input": "2023-06-24T11:37:51.743788Z",
     "iopub.status.busy": "2023-06-24T11:37:51.743363Z",
     "iopub.status.idle": "2023-06-24T11:37:52.537700Z",
     "shell.execute_reply": "2023-06-24T11:37:52.536118Z"
    },
    "papermill": {
     "duration": 0.809262,
     "end_time": "2023-06-24T11:37:52.540787",
     "exception": false,
     "start_time": "2023-06-24T11:37:51.731525",
     "status": "completed"
    },
    "tags": []
   },
   "outputs": [
    {
     "name": "stdout",
     "output_type": "stream",
     "text": [
      "['DDoS-PSHACK_Flood' 'DoS-UDP_Flood' 'DoS-TCP_Flood' 'Mirai-udpplain'\n",
      " 'DDoS-UDP_Flood' 'DDoS-ICMP_Flood' 'DDoS-RSTFINFlood' 'DDoS-TCP_Flood'\n",
      " 'DDoS-SynonymousIP_Flood' 'Mirai-greip_flood' 'DoS-SYN_Flood'\n",
      " 'DDoS-SYN_Flood' 'Mirai-greeth_flood' 'BenignTraffic' 'MITM-ArpSpoofing'\n",
      " 'DDoS-UDP_Fragmentation' 'DDoS-ACK_Fragmentation' 'DNS_Spoofing'\n",
      " 'DDoS-SlowLoris' 'DDoS-ICMP_Fragmentation' 'Recon-PingSweep'\n",
      " 'Recon-OSScan' 'Recon-HostDiscovery' 'DictionaryBruteForce'\n",
      " 'DoS-HTTP_Flood' 'Uploading_Attack' 'Recon-PortScan' 'VulnerabilityScan'\n",
      " 'SqlInjection' 'XSS' 'DDoS-HTTP_Flood' 'BrowserHijacking'\n",
      " 'CommandInjection' 'Backdoor_Malware']\n"
     ]
    }
   ],
   "source": [
    "print(dataset['label'].unique())"
   ]
  },
  {
   "cell_type": "code",
   "execution_count": 9,
   "id": "cb0e5e8b",
   "metadata": {
    "execution": {
     "iopub.execute_input": "2023-06-24T11:37:52.563390Z",
     "iopub.status.busy": "2023-06-24T11:37:52.562942Z",
     "iopub.status.idle": "2023-06-24T11:37:52.783355Z",
     "shell.execute_reply": "2023-06-24T11:37:52.782235Z"
    },
    "papermill": {
     "duration": 0.234487,
     "end_time": "2023-06-24T11:37:52.785792",
     "exception": false,
     "start_time": "2023-06-24T11:37:52.551305",
     "status": "completed"
    },
    "tags": []
   },
   "outputs": [
    {
     "data": {
      "text/plain": [
       "0          DDoS-PSHACK_Flood\n",
       "1              DoS-UDP_Flood\n",
       "2              DoS-TCP_Flood\n",
       "3              DoS-TCP_Flood\n",
       "4             Mirai-udpplain\n",
       "                 ...        \n",
       "7483401        DoS-UDP_Flood\n",
       "7483402      DDoS-ICMP_Flood\n",
       "7483403       DDoS-SYN_Flood\n",
       "7483404     DDoS-RSTFINFlood\n",
       "7483405       DDoS-SYN_Flood\n",
       "Name: label, Length: 7483406, dtype: object"
      ]
     },
     "execution_count": 9,
     "metadata": {},
     "output_type": "execute_result"
    }
   ],
   "source": [
    "dataset['label'].astype(str)"
   ]
  },
  {
   "cell_type": "code",
   "execution_count": 10,
   "id": "d261d06c",
   "metadata": {
    "execution": {
     "iopub.execute_input": "2023-06-24T11:37:52.808890Z",
     "iopub.status.busy": "2023-06-24T11:37:52.808491Z",
     "iopub.status.idle": "2023-06-24T11:37:53.608700Z",
     "shell.execute_reply": "2023-06-24T11:37:53.607212Z"
    },
    "papermill": {
     "duration": 0.816033,
     "end_time": "2023-06-24T11:37:53.612527",
     "exception": false,
     "start_time": "2023-06-24T11:37:52.796494",
     "status": "completed"
    },
    "tags": []
   },
   "outputs": [
    {
     "name": "stdout",
     "output_type": "stream",
     "text": [
      "{'DDoS-PSHACK_Flood': 1, 'DoS-UDP_Flood': 2, 'DoS-TCP_Flood': 3, 'Mirai-udpplain': 4, 'DDoS-UDP_Flood': 5, 'DDoS-ICMP_Flood': 6, 'DDoS-RSTFINFlood': 7, 'DDoS-TCP_Flood': 8, 'DDoS-SynonymousIP_Flood': 9, 'Mirai-greip_flood': 10, 'DoS-SYN_Flood': 11, 'DDoS-SYN_Flood': 12, 'Mirai-greeth_flood': 13, 'BenignTraffic': 14, 'MITM-ArpSpoofing': 15, 'DDoS-UDP_Fragmentation': 16, 'DDoS-ACK_Fragmentation': 17, 'DNS_Spoofing': 18, 'DDoS-SlowLoris': 19, 'DDoS-ICMP_Fragmentation': 20, 'Recon-PingSweep': 21, 'Recon-OSScan': 22, 'Recon-HostDiscovery': 23, 'DictionaryBruteForce': 24, 'DoS-HTTP_Flood': 25, 'Uploading_Attack': 26, 'Recon-PortScan': 27, 'VulnerabilityScan': 28, 'SqlInjection': 29, 'XSS': 30, 'DDoS-HTTP_Flood': 31, 'BrowserHijacking': 32, 'CommandInjection': 33, 'Backdoor_Malware': 34}\n"
     ]
    }
   ],
   "source": [
    "def create_label_map(dataset):\n",
    "    unique_labels = dataset['label'].unique()\n",
    "    label_map = {label: idx+1 for idx, label in enumerate(unique_labels)}\n",
    "    return label_map\n",
    "\n",
    "# Example usage:\n",
    "label_map = create_label_map(dataset)\n",
    "print(label_map)"
   ]
  },
  {
   "cell_type": "code",
   "execution_count": 11,
   "id": "e1eeef81",
   "metadata": {
    "execution": {
     "iopub.execute_input": "2023-06-24T11:37:53.639977Z",
     "iopub.status.busy": "2023-06-24T11:37:53.639555Z",
     "iopub.status.idle": "2023-06-24T11:37:54.520183Z",
     "shell.execute_reply": "2023-06-24T11:37:54.518845Z"
    },
    "papermill": {
     "duration": 0.898372,
     "end_time": "2023-06-24T11:37:54.523595",
     "exception": false,
     "start_time": "2023-06-24T11:37:53.625223",
     "status": "completed"
    },
    "tags": []
   },
   "outputs": [],
   "source": [
    "dataset['label'] = dataset['label'].map(label_map)"
   ]
  },
  {
   "cell_type": "code",
   "execution_count": 12,
   "id": "b3da52d6",
   "metadata": {
    "execution": {
     "iopub.execute_input": "2023-06-24T11:37:54.549209Z",
     "iopub.status.busy": "2023-06-24T11:37:54.548595Z",
     "iopub.status.idle": "2023-06-24T11:38:42.247229Z",
     "shell.execute_reply": "2023-06-24T11:38:42.245991Z"
    },
    "papermill": {
     "duration": 47.714674,
     "end_time": "2023-06-24T11:38:42.250265",
     "exception": false,
     "start_time": "2023-06-24T11:37:54.535591",
     "status": "completed"
    },
    "tags": []
   },
   "outputs": [],
   "source": [
    "correlation_matrix = dataset.corr()"
   ]
  },
  {
   "cell_type": "code",
   "execution_count": 13,
   "id": "eef56dbc",
   "metadata": {
    "execution": {
     "iopub.execute_input": "2023-06-24T11:38:42.274299Z",
     "iopub.status.busy": "2023-06-24T11:38:42.273413Z",
     "iopub.status.idle": "2023-06-24T11:38:42.288961Z",
     "shell.execute_reply": "2023-06-24T11:38:42.287536Z"
    },
    "papermill": {
     "duration": 0.030654,
     "end_time": "2023-06-24T11:38:42.292019",
     "exception": false,
     "start_time": "2023-06-24T11:38:42.261365",
     "status": "completed"
    },
    "tags": []
   },
   "outputs": [],
   "source": [
    "# Exclude autocorrelation and get the top n highest correlated attributes\n",
    "n = 15  # Set the number of attributes you want to display\n",
    "top_corr = correlation_matrix['label'].drop('label').nlargest(n)\n",
    "\n",
    "# Add the 'label' attribute as the center of the correlation\n",
    "top_corr = pd.concat([top_corr, correlation_matrix['label'].drop('label')])"
   ]
  },
  {
   "cell_type": "code",
   "execution_count": 14,
   "id": "835be827",
   "metadata": {
    "execution": {
     "iopub.execute_input": "2023-06-24T11:38:42.316671Z",
     "iopub.status.busy": "2023-06-24T11:38:42.316219Z",
     "iopub.status.idle": "2023-06-24T11:38:42.322681Z",
     "shell.execute_reply": "2023-06-24T11:38:42.321129Z"
    },
    "papermill": {
     "duration": 0.022422,
     "end_time": "2023-06-24T11:38:42.325423",
     "exception": false,
     "start_time": "2023-06-24T11:38:42.303001",
     "status": "completed"
    },
    "tags": []
   },
   "outputs": [],
   "source": [
    "top_corr = pd.DataFrame(top_corr)"
   ]
  },
  {
   "cell_type": "code",
   "execution_count": 15,
   "id": "71e4e63e",
   "metadata": {
    "execution": {
     "iopub.execute_input": "2023-06-24T11:38:42.349266Z",
     "iopub.status.busy": "2023-06-24T11:38:42.348749Z",
     "iopub.status.idle": "2023-06-24T11:38:44.685539Z",
     "shell.execute_reply": "2023-06-24T11:38:44.684063Z"
    },
    "papermill": {
     "duration": 2.352002,
     "end_time": "2023-06-24T11:38:44.688733",
     "exception": false,
     "start_time": "2023-06-24T11:38:42.336731",
     "status": "completed"
    },
    "tags": []
   },
   "outputs": [
    {
     "data": {
      "image/png": "[encoded data removed]",
      "text/plain": [
       "<Figure size 1000x500 with 2 Axes>"
      ]
     },
     "metadata": {},
     "output_type": "display_data"
    }
   ],
   "source": [
    "import seaborn as sns\n",
    "import matplotlib.pyplot as plt\n",
    "\n",
    "plt.figure(figsize=(10, 5))\n",
    "\n",
    "# Create the heatmap\n",
    "sns.heatmap(top_corr.head(15), annot=True, cmap=\"RdBu\", fmt=\".1f\", square=True)\n",
    "\n",
    "# Display the heatmap\n",
    "plt.show()"
   ]
  },
  {
   "cell_type": "code",
   "execution_count": 16,
   "id": "e6cb9e63",
   "metadata": {
    "execution": {
     "iopub.execute_input": "2023-06-24T11:38:44.716792Z",
     "iopub.status.busy": "2023-06-24T11:38:44.714293Z",
     "iopub.status.idle": "2023-06-24T11:38:45.033214Z",
     "shell.execute_reply": "2023-06-24T11:38:45.031977Z"
    },
    "papermill": {
     "duration": 0.336164,
     "end_time": "2023-06-24T11:38:45.036187",
     "exception": false,
     "start_time": "2023-06-24T11:38:44.700023",
     "status": "completed"
    },
    "tags": []
   },
   "outputs": [],
   "source": [
    "# Split data into x(input) and y(output)\n",
    "top_15_attributes = list(top_corr.index)[:n]\n",
    "x = dataset[top_15_attributes]\n",
    "y = dataset['label']"
   ]
  },
  {
   "cell_type": "code",
   "execution_count": 17,
   "id": "c8cf70d3",
   "metadata": {
    "execution": {
     "iopub.execute_input": "2023-06-24T11:38:45.060924Z",
     "iopub.status.busy": "2023-06-24T11:38:45.060229Z",
     "iopub.status.idle": "2023-06-24T11:38:45.089834Z",
     "shell.execute_reply": "2023-06-24T11:38:45.088543Z"
    },
    "papermill": {
     "duration": 0.044847,
     "end_time": "2023-06-24T11:38:45.092462",
     "exception": false,
     "start_time": "2023-06-24T11:38:45.047615",
     "status": "completed"
    },
    "tags": []
   },
   "outputs": [
    {
     "data": {
      "text/html": [
       "<div>\n",
       "<style scoped>\n",
       "    .dataframe tbody tr th:only-of-type {\n",
       "        vertical-align: middle;\n",
       "    }\n",
       "\n",
       "    .dataframe tbody tr th {\n",
       "        vertical-align: top;\n",
       "    }\n",
       "\n",
       "    .dataframe thead th {\n",
       "        text-align: right;\n",
       "    }\n",
       "</style>\n",
       "<table border=\"1\" class=\"dataframe\">\n",
       "  <thead>\n",
       "    <tr style=\"text-align: right;\">\n",
       "      <th></th>\n",
       "      <th>Variance</th>\n",
       "      <th>syn_count</th>\n",
       "      <th>Magnitue</th>\n",
       "      <th>AVG</th>\n",
       "      <th>Tot size</th>\n",
       "      <th>syn_flag_number</th>\n",
       "      <th>Std</th>\n",
       "      <th>Radius</th>\n",
       "      <th>Tot sum</th>\n",
       "      <th>Max</th>\n",
       "      <th>Min</th>\n",
       "      <th>Duration</th>\n",
       "      <th>rst_count</th>\n",
       "      <th>HTTPS</th>\n",
       "      <th>Covariance</th>\n",
       "    </tr>\n",
       "  </thead>\n",
       "  <tbody>\n",
       "    <tr>\n",
       "      <th>0</th>\n",
       "      <td>0.00</td>\n",
       "      <td>0.0</td>\n",
       "      <td>10.392305</td>\n",
       "      <td>54.000000</td>\n",
       "      <td>54.0</td>\n",
       "      <td>0.0</td>\n",
       "      <td>0.000000</td>\n",
       "      <td>0.000000</td>\n",
       "      <td>567.0</td>\n",
       "      <td>54.0</td>\n",
       "      <td>54.0</td>\n",
       "      <td>64.00</td>\n",
       "      <td>1.0</td>\n",
       "      <td>0.0</td>\n",
       "      <td>0.000000</td>\n",
       "    </tr>\n",
       "    <tr>\n",
       "      <th>1</th>\n",
       "      <td>0.14</td>\n",
       "      <td>0.0</td>\n",
       "      <td>10.011452</td>\n",
       "      <td>50.114774</td>\n",
       "      <td>50.1</td>\n",
       "      <td>0.0</td>\n",
       "      <td>0.377989</td>\n",
       "      <td>0.535314</td>\n",
       "      <td>526.4</td>\n",
       "      <td>51.4</td>\n",
       "      <td>50.0</td>\n",
       "      <td>63.36</td>\n",
       "      <td>0.0</td>\n",
       "      <td>0.0</td>\n",
       "      <td>1.045327</td>\n",
       "    </tr>\n",
       "    <tr>\n",
       "      <th>2</th>\n",
       "      <td>0.00</td>\n",
       "      <td>0.0</td>\n",
       "      <td>10.392305</td>\n",
       "      <td>54.000000</td>\n",
       "      <td>54.0</td>\n",
       "      <td>0.0</td>\n",
       "      <td>0.000000</td>\n",
       "      <td>0.000000</td>\n",
       "      <td>567.0</td>\n",
       "      <td>54.0</td>\n",
       "      <td>54.0</td>\n",
       "      <td>64.00</td>\n",
       "      <td>0.0</td>\n",
       "      <td>1.0</td>\n",
       "      <td>0.000000</td>\n",
       "    </tr>\n",
       "    <tr>\n",
       "      <th>3</th>\n",
       "      <td>0.00</td>\n",
       "      <td>0.0</td>\n",
       "      <td>10.392305</td>\n",
       "      <td>54.000000</td>\n",
       "      <td>54.0</td>\n",
       "      <td>0.0</td>\n",
       "      <td>0.000000</td>\n",
       "      <td>0.000000</td>\n",
       "      <td>567.0</td>\n",
       "      <td>54.0</td>\n",
       "      <td>54.0</td>\n",
       "      <td>64.00</td>\n",
       "      <td>0.0</td>\n",
       "      <td>0.0</td>\n",
       "      <td>0.000000</td>\n",
       "    </tr>\n",
       "    <tr>\n",
       "      <th>4</th>\n",
       "      <td>0.00</td>\n",
       "      <td>0.0</td>\n",
       "      <td>33.286634</td>\n",
       "      <td>554.000000</td>\n",
       "      <td>554.0</td>\n",
       "      <td>0.0</td>\n",
       "      <td>0.000000</td>\n",
       "      <td>0.000000</td>\n",
       "      <td>5817.0</td>\n",
       "      <td>554.0</td>\n",
       "      <td>554.0</td>\n",
       "      <td>64.00</td>\n",
       "      <td>0.0</td>\n",
       "      <td>0.0</td>\n",
       "      <td>0.000000</td>\n",
       "    </tr>\n",
       "  </tbody>\n",
       "</table>\n",
       "</div>"
      ],
      "text/plain": [
       "   Variance  syn_count   Magnitue         AVG  Tot size  syn_flag_number  \\\n",
       "0      0.00        0.0  10.392305   54.000000      54.0              0.0   \n",
       "1      0.14        0.0  10.011452   50.114774      50.1              0.0   \n",
       "2      0.00        0.0  10.392305   54.000000      54.0              0.0   \n",
       "3      0.00        0.0  10.392305   54.000000      54.0              0.0   \n",
       "4      0.00        0.0  33.286634  554.000000     554.0              0.0   \n",
       "\n",
       "        Std    Radius  Tot sum    Max    Min  Duration  rst_count  HTTPS  \\\n",
       "0  0.000000  0.000000    567.0   54.0   54.0     64.00        1.0    0.0   \n",
       "1  0.377989  0.535314    526.4   51.4   50.0     63.36        0.0    0.0   \n",
       "2  0.000000  0.000000    567.0   54.0   54.0     64.00        0.0    1.0   \n",
       "3  0.000000  0.000000    567.0   54.0   54.0     64.00        0.0    0.0   \n",
       "4  0.000000  0.000000   5817.0  554.0  554.0     64.00        0.0    0.0   \n",
       "\n",
       "   Covariance  \n",
       "0    0.000000  \n",
       "1    1.045327  \n",
       "2    0.000000  \n",
       "3    0.000000  \n",
       "4    0.000000  "
      ]
     },
     "execution_count": 17,
     "metadata": {},
     "output_type": "execute_result"
    }
   ],
   "source": [
    "x.head()"
   ]
  },
  {
   "cell_type": "code",
   "execution_count": 18,
   "id": "2cb9f991",
   "metadata": {
    "execution": {
     "iopub.execute_input": "2023-06-24T11:38:45.119215Z",
     "iopub.status.busy": "2023-06-24T11:38:45.118392Z",
     "iopub.status.idle": "2023-06-24T11:38:45.126133Z",
     "shell.execute_reply": "2023-06-24T11:38:45.125129Z"
    },
    "papermill": {
     "duration": 0.024514,
     "end_time": "2023-06-24T11:38:45.128634",
     "exception": false,
     "start_time": "2023-06-24T11:38:45.104120",
     "status": "completed"
    },
    "tags": []
   },
   "outputs": [
    {
     "data": {
      "text/plain": [
       "0    1\n",
       "1    2\n",
       "2    3\n",
       "3    3\n",
       "4    4\n",
       "Name: label, dtype: int64"
      ]
     },
     "execution_count": 18,
     "metadata": {},
     "output_type": "execute_result"
    }
   ],
   "source": [
    "y.head()"
   ]
  },
  {
   "cell_type": "code",
   "execution_count": 19,
   "id": "6e473b8f",
   "metadata": {
    "execution": {
     "iopub.execute_input": "2023-06-24T11:38:45.154905Z",
     "iopub.status.busy": "2023-06-24T11:38:45.154132Z",
     "iopub.status.idle": "2023-06-24T11:38:45.161524Z",
     "shell.execute_reply": "2023-06-24T11:38:45.159644Z"
    },
    "papermill": {
     "duration": 0.024249,
     "end_time": "2023-06-24T11:38:45.164943",
     "exception": false,
     "start_time": "2023-06-24T11:38:45.140694",
     "status": "completed"
    },
    "tags": []
   },
   "outputs": [
    {
     "data": {
      "text/plain": [
       "(7483406, 15)"
      ]
     },
     "execution_count": 19,
     "metadata": {},
     "output_type": "execute_result"
    }
   ],
   "source": [
    "x.shape"
   ]
  },
  {
   "cell_type": "code",
   "execution_count": 20,
   "id": "289da82d",
   "metadata": {
    "execution": {
     "iopub.execute_input": "2023-06-24T11:38:45.190950Z",
     "iopub.status.busy": "2023-06-24T11:38:45.190370Z",
     "iopub.status.idle": "2023-06-24T11:38:45.198756Z",
     "shell.execute_reply": "2023-06-24T11:38:45.197508Z"
    },
    "papermill": {
     "duration": 0.024498,
     "end_time": "2023-06-24T11:38:45.201350",
     "exception": false,
     "start_time": "2023-06-24T11:38:45.176852",
     "status": "completed"
    },
    "tags": []
   },
   "outputs": [
    {
     "data": {
      "text/plain": [
       "(7483406,)"
      ]
     },
     "execution_count": 20,
     "metadata": {},
     "output_type": "execute_result"
    }
   ],
   "source": [
    "y.shape"
   ]
  },
  {
   "cell_type": "code",
   "execution_count": 21,
   "id": "f4e03342",
   "metadata": {
    "execution": {
     "iopub.execute_input": "2023-06-24T11:38:45.229182Z",
     "iopub.status.busy": "2023-06-24T11:38:45.227964Z",
     "iopub.status.idle": "2023-06-24T11:38:48.409258Z",
     "shell.execute_reply": "2023-06-24T11:38:48.407897Z"
    },
    "papermill": {
     "duration": 3.198541,
     "end_time": "2023-06-24T11:38:48.412082",
     "exception": false,
     "start_time": "2023-06-24T11:38:45.213541",
     "status": "completed"
    },
    "tags": []
   },
   "outputs": [],
   "source": [
    "from sklearn.model_selection import train_test_split \n",
    "x_train, x_test, y_train, y_test = train_test_split(x,y,test_size=0.002, random_state=42)"
   ]
  },
  {
   "cell_type": "markdown",
   "id": "3910bd7f",
   "metadata": {
    "papermill": {
     "duration": 0.01144,
     "end_time": "2023-06-24T11:38:48.435807",
     "exception": false,
     "start_time": "2023-06-24T11:38:48.424367",
     "status": "completed"
    },
    "tags": []
   },
   "source": [
    "DECISION TREE"
   ]
  },
  {
   "cell_type": "code",
   "execution_count": 22,
   "id": "94cc3a1c",
   "metadata": {
    "execution": {
     "iopub.execute_input": "2023-06-24T11:38:48.462205Z",
     "iopub.status.busy": "2023-06-24T11:38:48.461786Z",
     "iopub.status.idle": "2023-06-24T11:41:47.573221Z",
     "shell.execute_reply": "2023-06-24T11:41:47.571538Z"
    },
    "papermill": {
     "duration": 179.139513,
     "end_time": "2023-06-24T11:41:47.587987",
     "exception": false,
     "start_time": "2023-06-24T11:38:48.448474",
     "status": "completed"
    },
    "tags": []
   },
   "outputs": [
    {
     "data": {
      "text/html": [
       "<style>#sk-container-id-1 {color: black;background-color: white;}#sk-container-id-1 pre{padding: 0;}#sk-container-id-1 div.sk-toggleable {background-color: white;}#sk-container-id-1 label.sk-toggleable__label {cursor: pointer;display: block;width: 100%;margin-bottom: 0;padding: 0.3em;box-sizing: border-box;text-align: center;}#sk-container-id-1 label.sk-toggleable__label-arrow:before {content: \"▸\";float: left;margin-right: 0.25em;color: #696969;}#sk-container-id-1 label.sk-toggleable__label-arrow:hover:before {color: black;}#sk-container-id-1 div.sk-estimator:hover label.sk-toggleable__label-arrow:before {color: black;}#sk-container-id-1 div.sk-toggleable__content {max-height: 0;max-width: 0;overflow: hidden;text-align: left;background-color: #f0f8ff;}#sk-container-id-1 div.sk-toggleable__content pre {margin: 0.2em;color: black;border-radius: 0.25em;background-color: #f0f8ff;}#sk-container-id-1 input.sk-toggleable__control:checked~div.sk-toggleable__content {max-height: 200px;max-width: 100%;overflow: auto;}#sk-container-id-1 input.sk-toggleable__control:checked~label.sk-toggleable__label-arrow:before {content: \"▾\";}#sk-container-id-1 div.sk-estimator input.sk-toggleable__control:checked~label.sk-toggleable__label {background-color: #d4ebff;}#sk-container-id-1 div.sk-label input.sk-toggleable__control:checked~label.sk-toggleable__label {background-color: #d4ebff;}#sk-container-id-1 input.sk-hidden--visually {border: 0;clip: rect(1px 1px 1px 1px);clip: rect(1px, 1px, 1px, 1px);height: 1px;margin: -1px;overflow: hidden;padding: 0;position: absolute;width: 1px;}#sk-container-id-1 div.sk-estimator {font-family: monospace;background-color: #f0f8ff;border: 1px dotted black;border-radius: 0.25em;box-sizing: border-box;margin-bottom: 0.5em;}#sk-container-id-1 div.sk-estimator:hover {background-color: #d4ebff;}#sk-container-id-1 div.sk-parallel-item::after {content: \"\";width: 100%;border-bottom: 1px solid gray;flex-grow: 1;}#sk-container-id-1 div.sk-label:hover label.sk-toggleable__label {background-color: #d4ebff;}#sk-container-id-1 div.sk-serial::before {content: \"\";position: absolute;border-left: 1px solid gray;box-sizing: border-box;top: 0;bottom: 0;left: 50%;z-index: 0;}#sk-container-id-1 div.sk-serial {display: flex;flex-direction: column;align-items: center;background-color: white;padding-right: 0.2em;padding-left: 0.2em;position: relative;}#sk-container-id-1 div.sk-item {position: relative;z-index: 1;}#sk-container-id-1 div.sk-parallel {display: flex;align-items: stretch;justify-content: center;background-color: white;position: relative;}#sk-container-id-1 div.sk-item::before, #sk-container-id-1 div.sk-parallel-item::before {content: \"\";position: absolute;border-left: 1px solid gray;box-sizing: border-box;top: 0;bottom: 0;left: 50%;z-index: -1;}#sk-container-id-1 div.sk-parallel-item {display: flex;flex-direction: column;z-index: 1;position: relative;background-color: white;}#sk-container-id-1 div.sk-parallel-item:first-child::after {align-self: flex-end;width: 50%;}#sk-container-id-1 div.sk-parallel-item:last-child::after {align-self: flex-start;width: 50%;}#sk-container-id-1 div.sk-parallel-item:only-child::after {width: 0;}#sk-container-id-1 div.sk-dashed-wrapped {border: 1px dashed gray;margin: 0 0.4em 0.5em 0.4em;box-sizing: border-box;padding-bottom: 0.4em;background-color: white;}#sk-container-id-1 div.sk-label label {font-family: monospace;font-weight: bold;display: inline-block;line-height: 1.2em;}#sk-container-id-1 div.sk-label-container {text-align: center;}#sk-container-id-1 div.sk-container {/* jupyter's `normalize.less` sets `[hidden] { display: none; }` but bootstrap.min.css set `[hidden] { display: none !important; }` so we also need the `!important` here to be able to override the default hidden behavior on the sphinx rendered scikit-learn.org. See: https://github.com/scikit-learn/scikit-learn/issues/21755 */display: inline-block !important;position: relative;}#sk-container-id-1 div.sk-text-repr-fallback {display: none;}</style><div id=\"sk-container-id-1\" class=\"sk-top-container\"><div class=\"sk-text-repr-fallback\"><pre>DecisionTreeClassifier(criterion=&#x27;entropy&#x27;, max_depth=20, min_samples_split=20)</pre><b>In a Jupyter environment, please rerun this cell to show the HTML representation or trust the notebook. <br />On GitHub, the HTML representation is unable to render, please try loading this page with nbviewer.org.</b></div><div class=\"sk-container\" hidden><div class=\"sk-item\"><div class=\"sk-estimator sk-toggleable\"><input class=\"sk-toggleable__control sk-hidden--visually\" id=\"sk-estimator-id-1\" type=\"checkbox\" checked><label for=\"sk-estimator-id-1\" class=\"sk-toggleable__label sk-toggleable__label-arrow\">DecisionTreeClassifier</label><div class=\"sk-toggleable__content\"><pre>DecisionTreeClassifier(criterion=&#x27;entropy&#x27;, max_depth=20, min_samples_split=20)</pre></div></div></div></div></div>"
      ],
      "text/plain": [
       "DecisionTreeClassifier(criterion='entropy', max_depth=20, min_samples_split=20)"
      ]
     },
     "execution_count": 22,
     "metadata": {},
     "output_type": "execute_result"
    }
   ],
   "source": [
    "import time\n",
    "from sklearn.tree import DecisionTreeClassifier\n",
    "clf = DecisionTreeClassifier(criterion='entropy', max_depth=20, min_samples_split=20)\n",
    "clf.fit(x_train, y_train)"
   ]
  },
  {
   "cell_type": "code",
   "execution_count": 23,
   "id": "22100d60",
   "metadata": {
    "execution": {
     "iopub.execute_input": "2023-06-24T11:41:47.615465Z",
     "iopub.status.busy": "2023-06-24T11:41:47.615000Z",
     "iopub.status.idle": "2023-06-24T11:41:47.629431Z",
     "shell.execute_reply": "2023-06-24T11:41:47.628053Z"
    },
    "papermill": {
     "duration": 0.031673,
     "end_time": "2023-06-24T11:41:47.632311",
     "exception": false,
     "start_time": "2023-06-24T11:41:47.600638",
     "status": "completed"
    },
    "tags": []
   },
   "outputs": [],
   "source": [
    "pred = clf.predict(x_test)"
   ]
  },
  {
   "cell_type": "code",
   "execution_count": 24,
   "id": "8c33c573",
   "metadata": {
    "execution": {
     "iopub.execute_input": "2023-06-24T11:41:47.659913Z",
     "iopub.status.busy": "2023-06-24T11:41:47.658988Z",
     "iopub.status.idle": "2023-06-24T11:41:47.668568Z",
     "shell.execute_reply": "2023-06-24T11:41:47.666943Z"
    },
    "papermill": {
     "duration": 0.026313,
     "end_time": "2023-06-24T11:41:47.671423",
     "exception": false,
     "start_time": "2023-06-24T11:41:47.645110",
     "status": "completed"
    },
    "tags": []
   },
   "outputs": [
    {
     "name": "stdout",
     "output_type": "stream",
     "text": [
      "0.7368878198703815\n"
     ]
    }
   ],
   "source": [
    "from sklearn.metrics import accuracy_score\n",
    "acc = accuracy_score(y_test,pred)\n",
    "print(acc)"
   ]
  }
 ],
 "metadata": {
  "kernelspec": {
   "display_name": "Python 3",
   "language": "python",
   "name": "python3"
  },
  "language_info": {
   "codemirror_mode": {
    "name": "ipython",
    "version": 3
   },
   "file_extension": ".py",
   "mimetype": "text/x-python",
   "name": "python",
   "nbconvert_exporter": "python",
   "pygments_lexer": "ipython3",
   "version": "3.10.10"
  },
  "papermill": {
   "default_parameters": {},
   "duration": 313.772801,
   "end_time": "2023-06-24T11:41:49.411725",
   "environment_variables": {},
   "exception": null,
   "input_path": "__notebook__.ipynb",
   "output_path": "__notebook__.ipynb",
   "parameters": {},
   "start_time": "2023-06-24T11:36:35.638924",
   "version": "2.4.0"
  }
 },
 "nbformat": 4,
 "nbformat_minor": 5
}
